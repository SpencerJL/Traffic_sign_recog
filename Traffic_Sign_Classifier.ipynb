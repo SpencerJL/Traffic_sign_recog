{
 "cells": [
  {
   "cell_type": "markdown",
   "metadata": {},
   "source": [
    "# Self-Driving Car Engineer Nanodegree\n",
    "\n",
    "## Deep Learning\n",
    "\n",
    "## Project: Build a Traffic Sign Recognition Classifier\n",
    "\n",
    "In this notebook, a template is provided for you to implement your functionality in stages, which is required to successfully complete this project. If additional code is required that cannot be included in the notebook, be sure that the Python code is successfully imported and included in your submission if necessary. \n",
    "\n",
    "> **Note**: Once you have completed all of the code implementations, you need to finalize your work by exporting the iPython Notebook as an HTML document. Before exporting the notebook to html, all of the code cells need to have been run so that reviewers can see the final implementation and output. You can then export the notebook by using the menu above and navigating to  \\n\",\n",
    "    \"**File -> Download as -> HTML (.html)**. Include the finished document along with this notebook as your submission. \n",
    "\n",
    "In addition to implementing code, there is a writeup to complete. The writeup should be completed in a separate file, which can be either a markdown file or a pdf document. There is a [write up template](https://github.com/udacity/CarND-Traffic-Sign-Classifier-Project/blob/master/writeup_template.md) that can be used to guide the writing process. Completing the code template and writeup template will cover all of the [rubric points](https://review.udacity.com/#!/rubrics/481/view) for this project.\n",
    "\n",
    "The [rubric](https://review.udacity.com/#!/rubrics/481/view) contains \"Stand Out Suggestions\" for enhancing the project beyond the minimum requirements. The stand out suggestions are optional. If you decide to pursue the \"stand out suggestions\", you can include the code in this Ipython notebook and also discuss the results in the writeup file.\n",
    "\n",
    "\n",
    ">**Note:** Code and Markdown cells can be executed using the **Shift + Enter** keyboard shortcut. In addition, Markdown cells can be edited by typically double-clicking the cell to enter edit mode."
   ]
  },
  {
   "cell_type": "markdown",
   "metadata": {},
   "source": [
    "---\n",
    "## Step 0: Load The Data"
   ]
  },
  {
   "cell_type": "code",
   "execution_count": 36,
   "metadata": {},
   "outputs": [
    {
     "name": "stdout",
     "output_type": "stream",
     "text": [
      "loading done\n"
     ]
    }
   ],
   "source": [
    "# Load pickled data\n",
    "import pickle\n",
    "import numpy as np\n",
    "# TODO: Fill this in based on where you saved the training and testing data\n",
    "\n",
    "training_file = ('D:/Box Sync/Self_Driving/Traffic Sign/train.p')\n",
    "validation_file=('D:/Box Sync/Self_Driving/Traffic Sign/valid.p')\n",
    "testing_file = ('D:/Box Sync/Self_Driving/Traffic Sign/test.p')\n",
    "\n",
    "with open(training_file, mode='rb') as f:\n",
    "    train = pickle.load(f)\n",
    "with open(validation_file, mode='rb') as f:\n",
    "    valid = pickle.load(f)\n",
    "with open(testing_file, mode='rb') as f:\n",
    "    test = pickle.load(f)\n",
    "    \n",
    "x_train, y_train = train['features'], train['labels']\n",
    "x_valid, y_valid = valid['features'], valid['labels']\n",
    "x_test, y_test = test['features'], test['labels']\n",
    "\n",
    "print('loading done')"
   ]
  },
  {
   "cell_type": "markdown",
   "metadata": {},
   "source": [
    "---\n",
    "\n",
    "## Step 1: Dataset Summary & Exploration\n",
    "\n",
    "The pickled data is a dictionary with 4 key/value pairs:\n",
    "\n",
    "- `'features'` is a 4D array containing raw pixel data of the traffic sign images, (num examples, width, height, channels).\n",
    "- `'labels'` is a 1D array containing the label/class id of the traffic sign. The file `signnames.csv` contains id -> name mappings for each id.\n",
    "- `'sizes'` is a list containing tuples, (width, height) representing the original width and height the image.\n",
    "- `'coords'` is a list containing tuples, (x1, y1, x2, y2) representing coordinates of a bounding box around the sign in the image. **THESE COORDINATES ASSUME THE ORIGINAL IMAGE. THE PICKLED DATA CONTAINS RESIZED VERSIONS (32 by 32) OF THESE IMAGES**\n",
    "\n",
    "Complete the basic data summary below. Use python, numpy and/or pandas methods to calculate the data summary rather than hard coding the results. For example, the [pandas shape method](http://pandas.pydata.org/pandas-docs/stable/generated/pandas.DataFrame.shape.html) might be useful for calculating some of the summary results. "
   ]
  },
  {
   "cell_type": "markdown",
   "metadata": {},
   "source": [
    "### Provide a Basic Summary of the Data Set Using Python, Numpy and/or Pandas"
   ]
  },
  {
   "cell_type": "code",
   "execution_count": 37,
   "metadata": {},
   "outputs": [
    {
     "name": "stdout",
     "output_type": "stream",
     "text": [
      "Number of training examples = 34799\n",
      "Number of validation examples =  4410\n",
      "Number of testing examples = 12630\n",
      "Image data shape = (34799, 32, 32, 3)\n",
      "Number of classes = 43\n"
     ]
    }
   ],
   "source": [
    "### Replace each question mark with the appropriate value. \n",
    "### Use python, pandas or numpy methods rather than hard coding the results\n",
    "\n",
    "# TODO: Number of training examples\n",
    "import numpy as np\n",
    "from sklearn.model_selection import train_test_split\n",
    "\n",
    "\n",
    "\n",
    "n_train = len(y_train)\n",
    "\n",
    "# TODO: Number of validation examples\n",
    "n_validation = len(y_valid)\n",
    "\n",
    "# TODO: Number of testing examples.\n",
    "n_test = len(y_test)\n",
    "\n",
    "# TODO: What's the shape of an traffic sign image?\n",
    "image_shape = x_train.shape\n",
    "\n",
    "# TODO: How many unique classes/labels there are in the dataset.\n",
    "n_classes = len(np.unique(np.append(y_train,y_test)))\n",
    "\n",
    "print(\"Number of training examples =\", n_train)\n",
    "print('Number of validation examples = ', n_validation)\n",
    "print(\"Number of testing examples =\", n_test)\n",
    "print(\"Image data shape =\", image_shape)\n",
    "print(\"Number of classes =\", n_classes)"
   ]
  },
  {
   "cell_type": "code",
   "execution_count": 38,
   "metadata": {},
   "outputs": [
    {
     "data": {
      "text/plain": [
       "<matplotlib.text.Text at 0x191c6db55c0>"
      ]
     },
     "execution_count": 38,
     "metadata": {},
     "output_type": "execute_result"
    },
    {
     "data": {
      "image/png": "[encoded data removed]",
      "text/plain": [
       "<matplotlib.figure.Figure at 0x191c46fc198>"
      ]
     },
     "metadata": {},
     "output_type": "display_data"
    }
   ],
   "source": [
    "#visulization of the dataset\n",
    "\n",
    "images,bins,_ = plt.hist(y_train,bins = range(n_classes + 1))\n",
    "plt.title('visulization of the dataset')"
   ]
  },
  {
   "cell_type": "markdown",
   "metadata": {},
   "source": [
    "### Include an exploratory visualization of the dataset"
   ]
  },
  {
   "cell_type": "markdown",
   "metadata": {},
   "source": [
    "Visualize the German Traffic Signs Dataset using the pickled file(s). This is open ended, suggestions include: plotting traffic sign images, plotting the count of each sign, etc. \n",
    "\n",
    "The [Matplotlib](http://matplotlib.org/) [examples](http://matplotlib.org/examples/index.html) and [gallery](http://matplotlib.org/gallery.html) pages are a great resource for doing visualizations in Python.\n",
    "\n",
    "**NOTE:** It's recommended you start with something simple first. If you wish to do more, come back to it after you've completed the rest of the sections. It can be interesting to look at the distribution of classes in the training, validation and test set. Is the distribution the same? Are there more examples of some classes than others?"
   ]
  },
  {
   "cell_type": "code",
   "execution_count": 3,
   "metadata": {},
   "outputs": [
    {
     "name": "stdout",
     "output_type": "stream",
     "text": [
      "8\n",
      "(34799, 32, 32, 3)\n"
     ]
    },
    {
     "data": {
      "image/png": "[encoded data removed]",
      "text/plain": [
       "<matplotlib.figure.Figure at 0x191a3e4df28>"
      ]
     },
     "metadata": {},
     "output_type": "display_data"
    }
   ],
   "source": [
    "### Data exploration visualization code goes here.\n",
    "### Feel free to use as many code cells as needed.\n",
    "import matplotlib.pyplot as plt\n",
    "import random\n",
    "import numpy as np\n",
    "# Visualizations will be shown in the notebook.\n",
    "%matplotlib inline\n",
    "\n",
    "index = random.randint(0,len(x_train))\n",
    "image = x_train[index].squeeze()\n",
    "\n",
    "shape = x_train.shape\n",
    "\n",
    "plt.figure(figsize = (1,1))\n",
    "plt.imshow(image)\n",
    "print(y_train[index])\n",
    "print(shape)"
   ]
  },
  {
   "cell_type": "markdown",
   "metadata": {},
   "source": [
    "----\n",
    "\n",
    "## Step 2: Design and Test a Model Architecture\n",
    "\n",
    "Design and implement a deep learning model that learns to recognize traffic signs. Train and test your model on the [German Traffic Sign Dataset](http://benchmark.ini.rub.de/?section=gtsrb&subsection=dataset).\n",
    "\n",
    "The LeNet-5 implementation shown in the [classroom](https://classroom.udacity.com/nanodegrees/nd013/parts/fbf77062-5703-404e-b60c-95b78b2f3f9e/modules/6df7ae49-c61c-4bb2-a23e-6527e69209ec/lessons/601ae704-1035-4287-8b11-e2c2716217ad/concepts/d4aca031-508f-4e0b-b493-e7b706120f81) at the end of the CNN lesson is a solid starting point. You'll have to change the number of classes and possibly the preprocessing, but aside from that it's plug and play! \n",
    "\n",
    "With the LeNet-5 solution from the lecture, you should expect a validation set accuracy of about 0.89. To meet specifications, the validation set accuracy will need to be at least 0.93. It is possible to get an even higher accuracy, but 0.93 is the minimum for a successful project submission. \n",
    "\n",
    "There are various aspects to consider when thinking about this problem:\n",
    "\n",
    "- Neural network architecture (is the network over or underfitting?)\n",
    "- Play around preprocessing techniques (normalization, rgb to grayscale, etc)\n",
    "- Number of examples per label (some have more than others).\n",
    "- Generate fake data.\n",
    "\n",
    "Here is an example of a [published baseline model on this problem](http://yann.lecun.com/exdb/publis/pdf/sermanet-ijcnn-11.pdf). It's not required to be familiar with the approach used in the paper but, it's good practice to try to read papers like these."
   ]
  },
  {
   "cell_type": "markdown",
   "metadata": {},
   "source": [
    "### Pre-process the Data Set (normalization, grayscale, etc.)"
   ]
  },
  {
   "cell_type": "markdown",
   "metadata": {},
   "source": [
    "Minimally, the image data should be normalized so that the data has mean zero and equal variance. For image data, `(pixel - 128)/ 128` is a quick way to approximately normalize the data and can be used in this project. \n",
    "\n",
    "Other pre-processing steps are optional. You can try different techniques to see if it improves performance. \n",
    "\n",
    "Use the code cell (or multiple code cells, if necessary) to implement the first step of your project."
   ]
  },
  {
   "cell_type": "code",
   "execution_count": 4,
   "metadata": {},
   "outputs": [
    {
     "name": "stdout",
     "output_type": "stream",
     "text": [
      "(34799, 32, 32)\n",
      "pre-process done with normalize and grayscale\n"
     ]
    }
   ],
   "source": [
    "### Preprocess the data here. It is required to normalize the data. Other preprocessing steps could include \n",
    "\n",
    "\n",
    "import tensorflow as tf\n",
    "import cv2\n",
    "import numpy as np\n",
    "\n",
    "\n",
    "### converting to grayscale, etc.\n",
    "def normalize_grayscale(rgb):\n",
    "    \n",
    "    gray = cv2.cvtColor(rgb, cv2.COLOR_RGB2GRAY )\n",
    "    \n",
    "    output  = gray - 128. / 128.\n",
    "    return output\n",
    "\n",
    "x_train = np.array([normalize_grayscale(rgb) for rgb in x_train])\n",
    "x_valid = np.array([normalize_grayscale(rgb) for rgb in x_valid])\n",
    "x_test = np.array([normalize_grayscale(rgb) for rgb in x_test])\n",
    "\n",
    "print(x_train.shape)\n",
    "print('pre-process done with normalize and grayscale')\n",
    "### Feel free to use as many code cells as needed.\n",
    "\n",
    "\n"
   ]
  },
  {
   "cell_type": "code",
   "execution_count": 5,
   "metadata": {},
   "outputs": [
    {
     "data": {
      "text/plain": [
       "<matplotlib.text.Text at 0x191b067a9b0>"
      ]
     },
     "execution_count": 5,
     "metadata": {},
     "output_type": "execute_result"
    },
    {
     "data": {
      "image/png": "[encoded data removed]",
      "text/plain": [
       "<matplotlib.figure.Figure at 0x191b060c9b0>"
      ]
     },
     "metadata": {},
     "output_type": "display_data"
    }
   ],
   "source": [
    "import random\n",
    "import math\n",
    "import cv2\n",
    "\n",
    "def transform(image,n):\n",
    "    \n",
    "    output_images = np.zeros((n,32,32))\n",
    "    \n",
    "    for i in range(n):\n",
    "        \n",
    "        angle = random.uniform(-15,15)\n",
    "        \n",
    "        s = random.uniform(0.7,1.3)\n",
    "        \n",
    "        rows,cols = image.shape[0:2]\n",
    "        image_center = (rows/2.0,cols/2.0)\n",
    "        rot_mat = cv2.getRotationMatrix2D(image_center,angle,1)\n",
    "        M_rot = np.vstack([rot_mat,[0,0,1]])\n",
    "        \n",
    "        tx = random.uniform(-2,2)\n",
    "        ty = random.uniform(-2,2)\n",
    "        M_tran = np.float32([[1,0,tx],[0,1,ty],[0,0,1]])\n",
    "        \n",
    "        M = np.matrix(M_tran)*np.matrix(M_rot)\n",
    "        \n",
    "        M = np.float32(M[:2][:])\n",
    "        \n",
    "        tmp = cv2.warpAffine(image,M,(cols,rows))\n",
    "        output_images[i][:][:] = tmp\n",
    "        \n",
    "    return output_images\n",
    "\n",
    "image = x_train[index].squeeze()\n",
    "plt.figure\n",
    "plt.subplot(1,2,1)\n",
    "plt.imshow(image,cmap = 'gray')\n",
    "plt.title('before')\n",
    "\n",
    "new_image = transform(image,1)\n",
    "plt.subplot(1,2,2)\n",
    "plt.imshow(new_image[0][:][:], cmap = 'gray')\n",
    "plt.title('after')\n",
    "\n"
   ]
  },
  {
   "cell_type": "code",
   "execution_count": 6,
   "metadata": {},
   "outputs": [
    {
     "name": "stdout",
     "output_type": "stream",
     "text": [
      "generating 5 times more additional data\n",
      "generated data are added into training data\n"
     ]
    }
   ],
   "source": [
    "print('generating 5 times more additional data')\n",
    "\n",
    "n = 5\n",
    "x_added = np.vstack([transform(im,n) for im in x_train])\n",
    "y_added = np.repeat(y_train,n)\n",
    "\n",
    "x_train = np.append(x_train,x_added,axis = 0)\n",
    "x_train = x_train[...,np.newaxis]\n",
    "y_train = np.append(y_train,y_added,axis = 0)\n",
    "\n",
    "x_test = x_test[...,np.newaxis]\n",
    "\n",
    "print('generated data are added into training data')"
   ]
  },
  {
   "cell_type": "code",
   "execution_count": 7,
   "metadata": {},
   "outputs": [
    {
     "name": "stdout",
     "output_type": "stream",
     "text": [
      "Number of training examples = 167035\n",
      "Number of validation examples = 41759\n",
      "Number of testing examples = 12630\n"
     ]
    }
   ],
   "source": [
    "from sklearn.model_selection import train_test_split\n",
    "\n",
    "x_train,x_valid,y_train,y_valid = train_test_split(x_train,y_train,test_size = 0.2,random_state = 42)\n",
    "\n",
    "n_validation = len(y_valid)\n",
    "\n",
    "n_train = len(y_train)\n",
    "\n",
    "print(\"Number of training examples =\", n_train)\n",
    "print(\"Number of validation examples =\", n_validation)\n",
    "print(\"Number of testing examples =\", len(y_test))"
   ]
  },
  {
   "cell_type": "markdown",
   "metadata": {},
   "source": [
    "### Model Architecture"
   ]
  },
  {
   "cell_type": "code",
   "execution_count": 8,
   "metadata": {},
   "outputs": [
    {
     "name": "stdout",
     "output_type": "stream",
     "text": [
      "(167035, 32, 32, 1)\n"
     ]
    }
   ],
   "source": [
    "### Define your architecture here.\n",
    "### Feel free to use as many code cells as needed.\n",
    "import tensorflow as tf\n",
    "from tensorflow.contrib.layers import flatten\n",
    "\n",
    "def LeNet(x):\n",
    "    mu = 0\n",
    "    sigma = 0.1\n",
    "    \n",
    "    #layer 1 imput = 32*32*1, output = 28*28*6\n",
    "    \n",
    "    conv1_w = tf.Variable(tf.truncated_normal(shape = (5,5,1,6), mean = mu, stddev = sigma))\n",
    "    conv1_b = tf.Variable(tf.zeros(6))\n",
    "    conv1 = tf.nn.conv2d(x,conv1_w,strides = [1,1,1,1],padding = 'VALID') + conv1_b\n",
    "    \n",
    "    #activation\n",
    "    \n",
    "    conv1 = tf.nn.relu(conv1)\n",
    "    \n",
    "    #pooling\n",
    "    conv1 = tf.nn.max_pool(conv1,ksize = [1,2,2,1],strides = [1,2,2,1],padding = 'VALID')\n",
    "    \n",
    "    # Layer 2 output = 10x10x16.\n",
    "    conv2_W = tf.Variable(tf.truncated_normal(shape=(5, 5, 6, 16), mean = mu, stddev = sigma))\n",
    "    conv2_b = tf.Variable(tf.zeros(16))\n",
    "    conv2   = tf.nn.conv2d(conv1, conv2_W, strides=[1, 1, 1, 1], padding='VALID') + conv2_b\n",
    "    \n",
    "    # activation.\n",
    "    conv2 = tf.nn.relu(conv2)\n",
    "\n",
    "    # Pooling. input = 10x10x16. output = 5x5x16.\n",
    "    conv2 = tf.nn.max_pool(conv2, ksize=[1, 2, 2, 1], strides=[1, 2, 2, 1], padding='VALID')\n",
    "    \n",
    "    # layer 3 output = 1x1x400.\n",
    "    \n",
    "    conv3_W = tf.Variable(tf.truncated_normal(shape=(5, 5, 16, 400), mean = mu, stddev = sigma))\n",
    "    conv3_b = tf.Variable(tf.zeros(400))\n",
    "    conv3   = tf.nn.conv2d(conv2, conv3_W, strides=[1, 1, 1, 1], padding='VALID') + conv3_b\n",
    "    \n",
    "    # activation\n",
    "    \n",
    "    conv3 = tf.nn.relu(conv3)\n",
    "\n",
    "    # Flatten. input = 1x1x400 + 14x14x6. output = 1576.\n",
    "    fc0   = tf.concat_v2([flatten(conv3),flatten(conv1)],1)\n",
    "    \n",
    "    #dropout \n",
    "    \n",
    "    f0 = tf.nn.dropout(fc0,keep_prob)\n",
    "    \n",
    "    # Layer 4 input = 1576. output = 43.\n",
    "    fc1_W = tf.Variable(tf.truncated_normal(shape=(1576, 43), mean = mu, stddev = sigma))\n",
    "    fc1_b = tf.Variable(tf.zeros(43))\n",
    "    \n",
    "    logits   = tf.matmul(fc0, fc1_W) + fc1_b\n",
    "    \n",
    "    return logits\n",
    "    \n",
    "print(x_train.shape)\n",
    " "
   ]
  },
  {
   "cell_type": "markdown",
   "metadata": {},
   "source": [
    "### Train, Validate and Test the Model"
   ]
  },
  {
   "cell_type": "markdown",
   "metadata": {},
   "source": [
    "A validation set can be used to assess how well the model is performing. A low accuracy on the training and validation\n",
    "sets imply underfitting. A high accuracy on the training set but low accuracy on the validation set implies overfitting."
   ]
  },
  {
   "cell_type": "code",
   "execution_count": 9,
   "metadata": {},
   "outputs": [
    {
     "name": "stdout",
     "output_type": "stream",
     "text": [
      "train finish\n",
      "(167035, 32, 32, 1)\n"
     ]
    }
   ],
   "source": [
    "### Train your model here.\n",
    "### Calculate and report the accuracy on the training and validation set.\n",
    "### Once a final model architecture is selected, \n",
    "### the accuracy on the test set should be calculated and reported as well.\n",
    "### Feel free to use as many code cells as needed.\n",
    "import tensorflow as tf\n",
    "import numpy as np\n",
    "from tensorflow.python.ops.variables import Variable\n",
    "from sklearn.utils import shuffle\n",
    "\n",
    "rate = 0.001\n",
    "epoches = 25\n",
    "batch_size = 128\n",
    "\n",
    "\n",
    "features = tf.placeholder(tf.float32,(None,32,32,1))\n",
    "labels = tf.placeholder(tf.int32,(None))\n",
    "\n",
    "one_hot_labels = tf.one_hot(labels,n_classes)\n",
    "keep_prob = tf.placeholder(tf.float32)\n",
    "\n",
    "\n",
    "logits = LeNet(features)\n",
    "\n",
    "\n",
    "cross_entropy = tf.nn.softmax_cross_entropy_with_logits(logits,one_hot_labels)\n",
    "loss = tf.reduce_mean(cross_entropy)\n",
    "optimizer = tf.train.AdamOptimizer(learning_rate = rate)\n",
    "training_operation = optimizer.minimize(loss)\n",
    "\n",
    "correct_prediction = tf.equal(tf.argmax(logits,1),tf.argmax(one_hot_labels,1))\n",
    "accuracy_operation = tf.reduce_mean(tf.cast(correct_prediction,tf.float32))\n",
    "saver = tf.train.Saver()\n",
    "\n",
    "print('train finish')\n",
    "print(x_train.shape)\n"
   ]
  },
  {
   "cell_type": "code",
   "execution_count": 10,
   "metadata": {},
   "outputs": [
    {
     "name": "stdout",
     "output_type": "stream",
     "text": [
      "evaluate finish\n",
      "(167035, 32, 32, 1)\n"
     ]
    }
   ],
   "source": [
    "def evaluate(x_data,y_data):\n",
    "    example_numb = len(x_data)\n",
    "    total_accuracy = 0\n",
    "    #sess = tf.get_defult_session()\n",
    "    for offset in range(0,example_numb,batch_size):\n",
    "        batch_x,batch_y = x_data[offset:offset + batch_size],y_data[offset:offset + batch_size]\n",
    "        accuracy = sess.run(accuracy_operation,feed_dict = {features:batch_x,labels:batch_y,keep_prob:1})\n",
    "        total_accuracy += (accuracy*len(batch_x))\n",
    "    return total_accuracy / example_numb\n",
    "\n",
    "\n",
    "print('evaluate finish')\n",
    "print(x_train.shape)"
   ]
  },
  {
   "cell_type": "code",
   "execution_count": 11,
   "metadata": {},
   "outputs": [
    {
     "name": "stdout",
     "output_type": "stream",
     "text": [
      "training...\n",
      "\n",
      "epoches1...\n",
      "validation accuracy = 0.097\n",
      "\n",
      "epoches2...\n",
      "validation accuracy = 0.729\n",
      "\n",
      "epoches3...\n",
      "validation accuracy = 0.865\n",
      "\n",
      "epoches4...\n",
      "validation accuracy = 0.909\n",
      "\n",
      "epoches5...\n",
      "validation accuracy = 0.927\n",
      "\n",
      "epoches6...\n",
      "validation accuracy = 0.932\n",
      "\n",
      "epoches7...\n",
      "validation accuracy = 0.935\n",
      "\n",
      "epoches8...\n",
      "validation accuracy = 0.955\n",
      "\n",
      "epoches9...\n",
      "validation accuracy = 0.952\n",
      "\n",
      "epoches10...\n",
      "validation accuracy = 0.946\n",
      "\n",
      "epoches11...\n",
      "validation accuracy = 0.958\n",
      "\n",
      "epoches12...\n",
      "validation accuracy = 0.961\n",
      "\n",
      "epoches13...\n",
      "validation accuracy = 0.963\n",
      "\n",
      "epoches14...\n",
      "validation accuracy = 0.962\n",
      "\n",
      "epoches15...\n",
      "validation accuracy = 0.967\n",
      "\n",
      "epoches16...\n",
      "validation accuracy = 0.962\n",
      "\n",
      "epoches17...\n",
      "validation accuracy = 0.956\n",
      "\n",
      "epoches18...\n",
      "validation accuracy = 0.952\n",
      "\n",
      "epoches19...\n",
      "validation accuracy = 0.967\n",
      "\n",
      "epoches20...\n",
      "validation accuracy = 0.955\n",
      "\n",
      "epoches21...\n",
      "validation accuracy = 0.963\n",
      "\n",
      "epoches22...\n",
      "validation accuracy = 0.974\n",
      "\n",
      "epoches23...\n",
      "validation accuracy = 0.969\n",
      "\n",
      "epoches24...\n",
      "validation accuracy = 0.965\n",
      "\n",
      "epoches25...\n",
      "validation accuracy = 0.973\n",
      "\n",
      "train finished\n"
     ]
    }
   ],
   "source": [
    "\n",
    "\n",
    "with tf.Session() as sess:\n",
    "    sess.run(tf.global_variables_initializer())\n",
    "    \n",
    "    example_numb = len(x_train)\n",
    "    \n",
    "    \n",
    "    print('training...')\n",
    "    \n",
    "    print()\n",
    "    \n",
    "    for i in range(epoches):\n",
    "        x_train,y_train = shuffle(x_train,y_train)\n",
    "        for offset in range(0,example_numb,batch_size):\n",
    "            end = offset + batch_size\n",
    "            batch_x,batch_y = x_train[offset:end],y_train[offset:end]\n",
    "            sess.run(training_operation,feed_dict = {features:batch_x,labels:batch_y,keep_prob:0.5})\n",
    "        \n",
    "        validation_accuracy = evaluate(x_valid,y_valid)\n",
    "    \n",
    "        print('epoches{}...'.format(i + 1))\n",
    "        print('validation accuracy = {:.3f}'.format(validation_accuracy))\n",
    "        print()\n",
    "        \n",
    "    saver.save(sess,'D:/Box Sync/Self_Driving/Traffic Sign/trafficsign')\n",
    "    print('train finished')"
   ]
  },
  {
   "cell_type": "code",
   "execution_count": 12,
   "metadata": {},
   "outputs": [
    {
     "name": "stdout",
     "output_type": "stream",
     "text": [
      "test accuracy = 0.912\n"
     ]
    }
   ],
   "source": [
    "with tf.Session() as sess:\n",
    "    sess.run(tf.global_variables_initializer())\n",
    "    saver1 = tf.train.import_meta_graph('D:/Box Sync/Self_Driving/Traffic Sign/trafficsign.meta')\n",
    "    saver1.restore(sess,'D:/Box Sync/Self_Driving/Traffic Sign/trafficsign')\n",
    "    \n",
    "    test_accuracy = evaluate(x_test,y_test)\n",
    "    print('test accuracy = {:.3f}'.format(test_accuracy))\n",
    "    \n",
    "    "
   ]
  },
  {
   "cell_type": "markdown",
   "metadata": {},
   "source": [
    "---\n",
    "\n",
    "## Step 3: Test a Model on New Images\n",
    "\n",
    "To give yourself more insight into how your model is working, download at least five pictures of German traffic signs from the web and use your model to predict the traffic sign type.\n",
    "\n",
    "You may find `signnames.csv` useful as it contains mappings from the class id (integer) to the actual sign name."
   ]
  },
  {
   "cell_type": "markdown",
   "metadata": {},
   "source": [
    "### Load and Output the Images"
   ]
  },
  {
   "cell_type": "code",
   "execution_count": 31,
   "metadata": {},
   "outputs": [
    {
     "name": "stdout",
     "output_type": "stream",
     "text": [
      "new test images\n"
     ]
    },
    {
     "data": {
      "image/png": "[encoded data removed]",
      "text/plain": [
       "<matplotlib.figure.Figure at 0x191d5e1ca20>"
      ]
     },
     "metadata": {},
     "output_type": "display_data"
    }
   ],
   "source": [
    "### Load the images and plot them here.\n",
    "### Feel free to use as many code cells as needed.\n",
    "\n",
    "import os\n",
    "import matplotlib.image as img\n",
    "import cv2\n",
    "import PIL\n",
    "from PIL import Image\n",
    "import matplotlib.pyplot as plt\n",
    "\n",
    "plt.figure\n",
    "\n",
    "N = 5\n",
    "\n",
    "x_test_new = np.zeros((N,32,32,1))\n",
    "\n",
    "\n",
    "\n",
    "for i in range(N):\n",
    "    \n",
    "    j = i + 1\n",
    "    image_name = os.path.join('D:/Box Sync/Self_Driving/Traffic Sign',str(j)+'.png')\n",
    "    \n",
    "    image = cv2.imread(image_name)\n",
    "    #image = cv2.resize(image,(32,32),interpolation = cv2.INTER_CUBIC)\n",
    "    \n",
    "    image_enhanced = normalize_grayscale(image)\n",
    "    \n",
    "    x_test_new[i][:][:][:] = np.array(image_enhanced)[...,np.newaxis]\n",
    "    \n",
    "    plt.subplot(3,3,j)\n",
    "    \n",
    "    plt.imshow(cv2.cvtColor(image, cv2.COLOR_BGR2RGB))\n",
    "    \n",
    "    #plt.imshow(image)\n",
    "    \n",
    "\n",
    "    \n",
    "print('new test images')\n"
   ]
  },
  {
   "cell_type": "markdown",
   "metadata": {},
   "source": [
    "### Predict the Sign Type for Each Image"
   ]
  },
  {
   "cell_type": "code",
   "execution_count": 32,
   "metadata": {},
   "outputs": [],
   "source": [
    "### Run the predictions here and use the model to output the prediction for each image.\n",
    "### Make sure to pre-process the images with the same pre-processing pipeline used earlier.\n",
    "### Feel free to use as many code cells as needed.\n",
    "\n",
    "y_test_new = np.array([17,1,2,14,35])\n"
   ]
  },
  {
   "cell_type": "markdown",
   "metadata": {},
   "source": [
    "### Analyze Performance"
   ]
  },
  {
   "cell_type": "code",
   "execution_count": 33,
   "metadata": {},
   "outputs": [
    {
     "name": "stdout",
     "output_type": "stream",
     "text": [
      "test accuracy = 1.000\n"
     ]
    }
   ],
   "source": [
    "### Calculate the accuracy for these 5 new images. \n",
    "### For example, if the model predicted 1 out of 5 signs correctly, it's 20% accurate on these new images.\n",
    "\n",
    "batch_size = 25\n",
    "\n",
    "with tf.Session() as sess:\n",
    "    sess.run(tf.global_variables_initializer())\n",
    "    \n",
    "    saver_new_image = tf.train.import_meta_graph('D:/Box Sync/Self_Driving/Traffic Sign/trafficsign.meta')\n",
    "    \n",
    "    saver_new_image.restore(sess,'D:/Box Sync/Self_Driving/Traffic Sign/trafficsign')\n",
    "    \n",
    "    test_accuracy = evaluate(x_test_new,y_test_new)\n",
    "    \n",
    "    print('test accuracy = {:.3f}'.format(test_accuracy))"
   ]
  },
  {
   "cell_type": "markdown",
   "metadata": {},
   "source": [
    "### Output Top 5 Softmax Probabilities For Each Image Found on the Web"
   ]
  },
  {
   "cell_type": "markdown",
   "metadata": {},
   "source": [
    "For each of the new images, print out the model's softmax probabilities to show the **certainty** of the model's predictions (limit the output to the top 5 probabilities for each image). [`tf.nn.top_k`](https://www.tensorflow.org/versions/r0.12/api_docs/python/nn.html#top_k) could prove helpful here. \n",
    "\n",
    "The example below demonstrates how tf.nn.top_k can be used to find the top k predictions for each image.\n",
    "\n",
    "`tf.nn.top_k` will return the values and indices (class ids) of the top k predictions. So if k=3, for each sign, it'll return the 3 largest probabilities (out of a possible 43) and the correspoding class ids.\n",
    "\n",
    "Take this numpy array as an example. The values in the array represent predictions. The array contains softmax probabilities for five candidate images with six possible classes. `tf.nn.top_k` is used to choose the three classes with the highest probability:\n",
    "\n",
    "```\n",
    "# (5, 6) array\n",
    "a = np.array([[ 0.24879643,  0.07032244,  0.12641572,  0.34763842,  0.07893497,\n",
    "         0.12789202],\n",
    "       [ 0.28086119,  0.27569815,  0.08594638,  0.0178669 ,  0.18063401,\n",
    "         0.15899337],\n",
    "       [ 0.26076848,  0.23664738,  0.08020603,  0.07001922,  0.1134371 ,\n",
    "         0.23892179],\n",
    "       [ 0.11943333,  0.29198961,  0.02605103,  0.26234032,  0.1351348 ,\n",
    "         0.16505091],\n",
    "       [ 0.09561176,  0.34396535,  0.0643941 ,  0.16240774,  0.24206137,\n",
    "         0.09155967]])\n",
    "```\n",
    "\n",
    "Running it through `sess.run(tf.nn.top_k(tf.constant(a), k=3))` produces:\n",
    "\n",
    "```\n",
    "TopKV2(values=array([[ 0.34763842,  0.24879643,  0.12789202],\n",
    "       [ 0.28086119,  0.27569815,  0.18063401],\n",
    "       [ 0.26076848,  0.23892179,  0.23664738],\n",
    "       [ 0.29198961,  0.26234032,  0.16505091],\n",
    "       [ 0.34396535,  0.24206137,  0.16240774]]), indices=array([[3, 0, 5],\n",
    "       [0, 1, 4],\n",
    "       [0, 5, 1],\n",
    "       [1, 3, 5],\n",
    "       [1, 4, 3]], dtype=int32))\n",
    "```\n",
    "\n",
    "Looking just at the first row we get `[ 0.34763842,  0.24879643,  0.12789202]`, you can confirm these are the 3 largest probabilities in `a`. You'll also notice `[3, 0, 5]` are the corresponding indices."
   ]
  },
  {
   "cell_type": "code",
   "execution_count": 34,
   "metadata": {},
   "outputs": [
    {
     "data": {
      "image/png": "[encoded data removed]",
      "text/plain": [
       "<matplotlib.figure.Figure at 0x191c498a7b8>"
      ]
     },
     "metadata": {},
     "output_type": "display_data"
    }
   ],
   "source": [
    "### Print out the top five softmax probabilities for the predictions on the German traffic sign images found on the web. \n",
    "### Feel free to use as many code cells as needed.\n",
    "n = 5\n",
    "\n",
    "with tf.Session() as sess:\n",
    "    sess.run(tf.global_variables_initializer())\n",
    "    saver = tf.train.import_meta_graph('D:/Box Sync/Self_Driving/Traffic Sign/trafficsign.meta')\n",
    "    saver.restore(sess,'D:/Box Sync/Self_Driving/Traffic Sign/trafficsign')\n",
    "    \n",
    "    top_k = sess.run(tf.nn.top_k(tf.nn.softmax(logits),k = 4), feed_dict = {features: x_test_new, keep_prob : 1.0 })\n",
    "    \n",
    "    fig, axs = plt.subplots(len(x_test_new),n,figsize = (12,12))\n",
    "    \n",
    "    fig.subplots_adjust(hspace = 0.5,wspace = 0.7)\n",
    "    \n",
    "    axs = axs.ravel()\n",
    "    \n",
    "    for i, image in enumerate(x_test_new):\n",
    "        axs[n*i].axis('off')\n",
    "        axs[n*i].imshow(image.squeeze(),cmap = 'gray')\n",
    "        axs[n*i].set_title('input')\n",
    "        \n",
    "        top1 = top_k[1][i][0]\n",
    "        idx1 = np.argwhere(y_test == top1)[0]\n",
    "        \n",
    "        axs[n*i+1].axis('off')\n",
    "        axs[n*i+1].imshow(x_test[idx1].squeeze(),cmap = 'gray')\n",
    "        axs[n*i+1].set_title('1st guess: {}({:.0f}%)'.format(top1,100*top_k[0][i][0]))\n",
    "        \n",
    "        top2 = top_k[1][i][1]\n",
    "        idx2 = np.argwhere(y_test == top2)[0]\n",
    "        \n",
    "        axs[n*i+2].axis('off')\n",
    "        axs[n*i+2].imshow(x_test[idx2].squeeze(),cmap = 'gray')\n",
    "        axs[n*i+2].set_title('2st guess: {}({:.0f}%)'.format(top2,100*top_k[0][i][1])) \n",
    "        \n",
    "        top3 = top_k[1][i][2]\n",
    "        idx3 = np.argwhere(y_test == top3)[0]\n",
    "        \n",
    "        axs[n*i+3].axis('off')\n",
    "        axs[n*i+3].imshow(x_test[idx3].squeeze(),cmap = 'gray')\n",
    "        axs[n*i+3].set_title('3st guess: {}({:.0f}%)'.format(top3,100*top_k[0][i][2]))\n",
    "        \n",
    "        top4 = top_k[1][i][3]\n",
    "        idx4 = np.argwhere(y_test == top4)[0]\n",
    "        \n",
    "        axs[n*i+4].axis('off')\n",
    "        axs[n*i+4].imshow(x_test[idx4].squeeze(),cmap = 'gray')\n",
    "        axs[n*i+4].set_title('4st guess: {}({:.0f}%)'.format(top4,100*top_k[0][i][3]))\n"
   ]
  },
  {
   "cell_type": "markdown",
   "metadata": {},
   "source": [
    "### Project Writeup\n",
    "\n",
    "Once you have completed the code implementation, document your results in a project writeup using this [template](https://github.com/udacity/CarND-Traffic-Sign-Classifier-Project/blob/master/writeup_template.md) as a guide. The writeup can be in a markdown or pdf file. "
   ]
  },
  {
   "cell_type": "markdown",
   "metadata": {},
   "source": [
    "> **Note**: Once you have completed all of the code implementations and successfully answered each question above, you may finalize your work by exporting the iPython Notebook as an HTML document. You can do this by using the menu above and navigating to  \\n\",\n",
    "    \"**File -> Download as -> HTML (.html)**. Include the finished document along with this notebook as your submission."
   ]
  },
  {
   "cell_type": "markdown",
   "metadata": {},
   "source": [
    "---\n",
    "\n",
    "## Step 4 (Optional): Visualize the Neural Network's State with Test Images\n",
    "\n",
    " This Section is not required to complete but acts as an additional excersise for understaning the output of a neural network's weights. While neural networks can be a great learning device they are often referred to as a black box. We can understand what the weights of a neural network look like better by plotting their feature maps. After successfully training your neural network you can see what it's feature maps look like by plotting the output of the network's weight layers in response to a test stimuli image. From these plotted feature maps, it's possible to see what characteristics of an image the network finds interesting. For a sign, maybe the inner network feature maps react with high activation to the sign's boundary outline or to the contrast in the sign's painted symbol.\n",
    "\n",
    " Provided for you below is the function code that allows you to get the visualization output of any tensorflow weight layer you want. The inputs to the function should be a stimuli image, one used during training or a new one you provided, and then the tensorflow variable name that represents the layer's state during the training process, for instance if you wanted to see what the [LeNet lab's](https://classroom.udacity.com/nanodegrees/nd013/parts/fbf77062-5703-404e-b60c-95b78b2f3f9e/modules/6df7ae49-c61c-4bb2-a23e-6527e69209ec/lessons/601ae704-1035-4287-8b11-e2c2716217ad/concepts/d4aca031-508f-4e0b-b493-e7b706120f81) feature maps looked like for it's second convolutional layer you could enter conv2 as the tf_activation variable.\n",
    "\n",
    "For an example of what feature map outputs look like, check out NVIDIA's results in their paper [End-to-End Deep Learning for Self-Driving Cars](https://devblogs.nvidia.com/parallelforall/deep-learning-self-driving-cars/) in the section Visualization of internal CNN State. NVIDIA was able to show that their network's inner weights had high activations to road boundary lines by comparing feature maps from an image with a clear path to one without. Try experimenting with a similar test to show that your trained network's weights are looking for interesting features, whether it's looking at differences in feature maps from images with or without a sign, or even what feature maps look like in a trained network vs a completely untrained one on the same sign image.\n",
    "\n",
    "<figure>\n",
    " <img src=\"visualize_cnn.png\" width=\"380\" alt=\"Combined Image\" />\n",
    " <figcaption>\n",
    " <p></p> \n",
    " <p style=\"text-align: center;\"> Your output should look something like this (above)</p> \n",
    " </figcaption>\n",
    "</figure>\n",
    " <p></p> \n"
   ]
  },
  {
   "cell_type": "code",
   "execution_count": null,
   "metadata": {},
   "outputs": [],
   "source": [
    "### Visualize your network's feature maps here.\n",
    "### Feel free to use as many code cells as needed.\n",
    "\n",
    "# image_input: the test image being fed into the network to produce the feature maps\n",
    "# tf_activation: should be a tf variable name used during your training procedure that represents the calculated state of a specific weight layer\n",
    "# activation_min/max: can be used to view the activation contrast in more detail, by default matplot sets min and max to the actual min and max values of the output\n",
    "# plt_num: used to plot out multiple different weight feature map sets on the same block, just extend the plt number for each new feature map entry\n",
    "\n",
    "def outputFeatureMap(image_input, tf_activation, activation_min=-1, activation_max=-1 ,plt_num=1):\n",
    "    # Here make sure to preprocess your image_input in a way your network expects\n",
    "    # with size, normalization, ect if needed\n",
    "    # image_input =\n",
    "    # Note: x should be the same name as your network's tensorflow data placeholder variable\n",
    "    # If you get an error tf_activation is not defined it may be having trouble accessing the variable from inside a function\n",
    "    activation = tf_activation.eval(session=sess,feed_dict={x : image_input})\n",
    "    featuremaps = activation.shape[3]\n",
    "    plt.figure(plt_num, figsize=(15,15))\n",
    "    for featuremap in range(featuremaps):\n",
    "        plt.subplot(6,8, featuremap+1) # sets the number of feature maps to show on each row and column\n",
    "        plt.title('FeatureMap ' + str(featuremap)) # displays the feature map number\n",
    "        if activation_min != -1 & activation_max != -1:\n",
    "            plt.imshow(activation[0,:,:, featuremap], interpolation=\"nearest\", vmin =activation_min, vmax=activation_max, cmap=\"gray\")\n",
    "        elif activation_max != -1:\n",
    "            plt.imshow(activation[0,:,:, featuremap], interpolation=\"nearest\", vmax=activation_max, cmap=\"gray\")\n",
    "        elif activation_min !=-1:\n",
    "            plt.imshow(activation[0,:,:, featuremap], interpolation=\"nearest\", vmin=activation_min, cmap=\"gray\")\n",
    "        else:\n",
    "            plt.imshow(activation[0,:,:, featuremap], interpolation=\"nearest\", cmap=\"gray\")"
   ]
  }
 ],
 "metadata": {
  "anaconda-cloud": {},
  "kernelspec": {
   "display_name": "Python 3",
   "language": "python",
   "name": "python3"
  },
  "language_info": {
   "codemirror_mode": {
    "name": "ipython",
    "version": 3
   },
   "file_extension": ".py",
   "mimetype": "text/x-python",
   "name": "python",
   "nbconvert_exporter": "python",
   "pygments_lexer": "ipython3",
   "version": "3.5.2"
  },
  "widgets": {
   "state": {},
   "version": "1.1.2"
  }
 },
 "nbformat": 4,
 "nbformat_minor": 1
}
